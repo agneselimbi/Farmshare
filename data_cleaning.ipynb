{
 "cells": [
  {
   "cell_type": "code",
   "execution_count": 1,
   "id": "da187ebe",
   "metadata": {},
   "outputs": [],
   "source": [
    "import matplotlib.pyplot as plt\n",
    "import pandas as pd                                                                  \n",
    "import numpy as np\n",
    "import shutil\n",
    "import sys\n",
    "import os.path\n",
    "import json"
   ]
  },
  {
   "cell_type": "markdown",
   "id": "a27e54e5",
   "metadata": {},
   "source": [
    "## Read the data frames ( demand and availabilities)\n",
    "filepath = r'C:\\Users\\Agnes\\OneDrive\\Documents\\Internship/synthetic_data.xlsx'\n",
    "demand_df = pd.read_excel(filepath, sheet_name= 'Demand', header=0, index_col = 0)\n",
    "avail_df = pd.read_excel(filepath,sheet_name = 'Available', header = 0,index_col = 1)\n",
    "\n",
    "## check out i can read data:\n",
    "demand_df = demand_df['Qty']\n",
    "\n",
    "## Convert demand data into format readable by pyomo:\n",
    "demand_data = demand_df.to_dict()\n",
    "\n",
    "# creating our sets \n",
    "avail_df.head()\n",
    "farms =[av f for f in avail_df['Farm'].unique()]\n",
    "produce = avail_df.index.unique().to_list()\n",
    "farms\n",
    "\n",
    "price_data = {}\n",
    "qty_data = {}\n",
    "organic_data ={}\n",
    "local_data = {}\n",
    "temp=[]\n",
    "for p in produce:\n",
    "    t = avail_df.loc[p,'Farm':'Local '].set_index('Farm')\n",
    "    price_data[p] = t['Unit Price'].to_dict()\n",
    "    qty_data[p] = t['Qty'].to_dict()\n",
    "    organic_data[p] = t['Organic '].to_dict()\n",
    "    local_data[p] = t['Local '].to_dict()\n",
    "    \n",
    "## saving cleaned data\n",
    "with open(\"qty_data.json\", \"w\") as outfile: \n",
    "    json.dump(qty_data, outfile,indent = 4)\n",
    "with open(\"price_data.json\", \"w\") as outfile: \n",
    "    json.dump(price_data,outfile,indent = 4)\n",
    "with open(\"organic_data.json\", \"w\") as outfile: \n",
    "    json.dump(organic_data,outfile,indent =4)\n",
    "with open(\"local_data.json\", \"w\") as outfile: \n",
    "    json.dump(local_data,outfile,indent = 4)\n",
    "with open(\"demand_data.json\", \"w\") as outfile: \n",
    "    json.dump(demand_data,outfile,indent = 4)\n",
    "with open(\"produce.json\",\"w\") as f :\n",
    "    json.dump(produce,f,indent = 4)\n",
    "with open('farms.json',\"w\") as f:\n",
    "    json.dump(farms,f,indent = 4)"
   ]
  },
  {
   "cell_type": "code",
   "execution_count": 2,
   "id": "85b11de8",
   "metadata": {},
   "outputs": [],
   "source": [
    "## Read the data frames ( demand and availabilities)\n",
    "filepath = r'C:\\Users\\Agnes\\OneDrive\\Documents\\Internship/synthetic_data.xlsx'\n",
    "demand_df = pd.read_excel(filepath, sheet_name= 'Demand', header=0, index_col = 0)\n",
    "avail_df = pd.read_excel(filepath,sheet_name = 'Available', header = 0,index_col = 1)"
   ]
  },
  {
   "cell_type": "code",
   "execution_count": 3,
   "id": "1763f6e9",
   "metadata": {},
   "outputs": [],
   "source": [
    "## check out i can read data:\n",
    "demand_df = demand_df['Qty']\n",
    "\n",
    "## Convert demand data into format readable by pyomo:\n",
    "demand_data = demand_df.to_dict()"
   ]
  },
  {
   "cell_type": "code",
   "execution_count": 4,
   "id": "05b20385",
   "metadata": {},
   "outputs": [],
   "source": [
    "# creating our sets \n",
    "avail_df.head()\n",
    "farms =[f for f in avail_df['Farm'].unique()]\n",
    "produce = avail_df.index.unique().to_list()\n",
    "\n",
    "# creating our availability, price data:\n",
    "avail_df = avail_df.reset_index().set_index(['Produce', 'Farm'])\n",
    "qty_data = avail_df['Qty'].to_dict()\n",
    "price_data = avail_df['Unit Price'].to_dict()\n",
    "organic_data = avail_df['Organic '].loc[avail_df['Organic ']=='Yes'].to_dict()\n",
    "organic_data = [f for f in organic_data.keys()]\n",
    "local_data= avail_df['Local '].loc[avail_df['Local ']=='Yes'].to_dict()\n",
    "local_data = [f for f in local_data.keys()]"
   ]
  },
  {
   "cell_type": "code",
   "execution_count": 5,
   "id": "5503c2e4",
   "metadata": {},
   "outputs": [],
   "source": [
    "## saving cleaned data\n",
    "with open(\"qty_data.txt\", \"w+\") as outfile: \n",
    "    outfile.write(str(qty_data))\n",
    "\n",
    "with open(\"price_data.txt\", \"w+\") as outfile: \n",
    "    outfile.write(str(price_data))\n",
    "\n",
    "with open(\"organic_data.txt\", \"w+\") as outfile: \n",
    "    outfile.write(str(organic_data))\n",
    "\n",
    "with open(\"local_data.txt\", \"w+\") as outfile: \n",
    "    outfile.write(str(local_data))\n",
    "    \n",
    "with open(\"demand_data.json\", \"w\") as outfile: \n",
    "    json.dump(demand_data,outfile,indent = 4)\n",
    "with open(\"produce.json\",\"w\") as f :\n",
    "    json.dump(produce,f,indent = 4)\n",
    "with open('farms.json',\"w\") as f:\n",
    "    json.dump(farms,f,indent = 4)"
   ]
  }
 ],
 "metadata": {
  "kernelspec": {
   "display_name": "Python 3",
   "language": "python",
   "name": "python3"
  },
  "language_info": {
   "codemirror_mode": {
    "name": "ipython",
    "version": 3
   },
   "file_extension": ".py",
   "mimetype": "text/x-python",
   "name": "python",
   "nbconvert_exporter": "python",
   "pygments_lexer": "ipython3",
   "version": "3.8.8"
  }
 },
 "nbformat": 4,
 "nbformat_minor": 5
}
